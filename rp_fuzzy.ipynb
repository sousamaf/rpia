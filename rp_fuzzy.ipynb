{
 "cells": [
  {
   "cell_type": "code",
   "execution_count": 22,
   "id": "6e9325f8",
   "metadata": {
    "tags": [
     "no_markdown"
    ]
   },
   "outputs": [],
   "source": [
    "try:\n",
    "    import skfuzzy as fuzz\n",
    "except:\n",
    "    !pip install scikit-fuzzy\n",
    "    import skfuzzy as fuzz\n",
    "try: \n",
    "    from rich.console import Console\n",
    "except:\n",
    "    !ip install rich[jupyter]\n",
    "\n",
    "try:\n",
    "    from tabulate import tabulate\n",
    "except:\n",
    "    !pip install tabulate\n",
    "    from tabulate import tabulate\n",
    "    \n",
    "import numpy as np\n",
    "import pandas as pd\n",
    "\n",
    "from rich.table import Table\n",
    "from rich.prompt import Prompt\n",
    "from rich.console import Console\n",
    "from rich.markdown import Markdown\n",
    "\n",
    "from skfuzzy import control as ctrl"
   ]
  },
  {
   "cell_type": "markdown",
   "id": "48cf2448",
   "metadata": {
    "tags": []
   },
   "source": [
    "# Seletor Fuzzy de Slice para Rede 5G \n",
    "\n",
    "Trabalho final da disciplina de Técnicas de Raciocínio Probabilístico em IA\n",
    "\n",
    "- Acadêmico: Marco Antonio Firmino de Sousa\n",
    "\n",
    "# Implementação do projeto\n"
   ]
  },
  {
   "cell_type": "markdown",
   "id": "ed107ad1",
   "metadata": {},
   "source": [
    "## Carretamento de dados\n",
    "\n",
    "Dados produzidos por simulação utilizando [NS3](https://ns3simulator.com/).\n",
    "\n",
    "Cenário: seleção de slice apropriado para clientes (UE - user equipament).\n",
    "\n",
    "Amostra do dataset __original__:"
   ]
  },
  {
   "cell_type": "code",
   "execution_count": 23,
   "id": "2cd46d93",
   "metadata": {},
   "outputs": [
    {
     "data": {
      "text/html": [
       "<div>\n",
       "<style scoped>\n",
       "    .dataframe tbody tr th:only-of-type {\n",
       "        vertical-align: middle;\n",
       "    }\n",
       "\n",
       "    .dataframe tbody tr th {\n",
       "        vertical-align: top;\n",
       "    }\n",
       "\n",
       "    .dataframe thead th {\n",
       "        text-align: right;\n",
       "    }\n",
       "</style>\n",
       "<table border=\"1\" class=\"dataframe\">\n",
       "  <thead>\n",
       "    <tr style=\"text-align: right;\">\n",
       "      <th></th>\n",
       "      <th>Latency</th>\n",
       "      <th>Jitter</th>\n",
       "      <th>Loss</th>\n",
       "      <th>Protocol</th>\n",
       "      <th>Bandwidth</th>\n",
       "      <th>Transfer</th>\n",
       "      <th>UE</th>\n",
       "      <th>experiment</th>\n",
       "      <th>Distance</th>\n",
       "      <th>Reliability</th>\n",
       "    </tr>\n",
       "  </thead>\n",
       "  <tbody>\n",
       "    <tr>\n",
       "      <th>830</th>\n",
       "      <td>1.510</td>\n",
       "      <td>0.188774</td>\n",
       "      <td>12</td>\n",
       "      <td>UDP</td>\n",
       "      <td>45000.000000</td>\n",
       "      <td>1609000.0</td>\n",
       "      <td>1</td>\n",
       "      <td>6</td>\n",
       "      <td>50.111683</td>\n",
       "      <td>99.995614</td>\n",
       "    </tr>\n",
       "    <tr>\n",
       "      <th>1747</th>\n",
       "      <td>0.598</td>\n",
       "      <td>0.473480</td>\n",
       "      <td>0</td>\n",
       "      <td>UDP</td>\n",
       "      <td>15000.000000</td>\n",
       "      <td>536000.0</td>\n",
       "      <td>2</td>\n",
       "      <td>11</td>\n",
       "      <td>76.809695</td>\n",
       "      <td>99.993287</td>\n",
       "    </tr>\n",
       "    <tr>\n",
       "      <th>1255</th>\n",
       "      <td>0.647</td>\n",
       "      <td>0.523198</td>\n",
       "      <td>1</td>\n",
       "      <td>TCP</td>\n",
       "      <td>7006.666667</td>\n",
       "      <td>250000.0</td>\n",
       "      <td>5</td>\n",
       "      <td>8</td>\n",
       "      <td>56.382843</td>\n",
       "      <td>99.993633</td>\n",
       "    </tr>\n",
       "    <tr>\n",
       "      <th>1239</th>\n",
       "      <td>0.616</td>\n",
       "      <td>0.508918</td>\n",
       "      <td>0</td>\n",
       "      <td>TCP</td>\n",
       "      <td>2004.666667</td>\n",
       "      <td>71600.0</td>\n",
       "      <td>4</td>\n",
       "      <td>8</td>\n",
       "      <td>25.474472</td>\n",
       "      <td>99.986189</td>\n",
       "    </tr>\n",
       "    <tr>\n",
       "      <th>1806</th>\n",
       "      <td>0.582</td>\n",
       "      <td>0.471663</td>\n",
       "      <td>1</td>\n",
       "      <td>UDP</td>\n",
       "      <td>5000.000000</td>\n",
       "      <td>179000.0</td>\n",
       "      <td>3</td>\n",
       "      <td>11</td>\n",
       "      <td>50.923514</td>\n",
       "      <td>99.988065</td>\n",
       "    </tr>\n",
       "  </tbody>\n",
       "</table>\n",
       "</div>"
      ],
      "text/plain": [
       "      Latency    Jitter  Loss Protocol     Bandwidth   Transfer  UE  \\\n",
       "830     1.510  0.188774    12      UDP  45000.000000  1609000.0   1   \n",
       "1747    0.598  0.473480     0      UDP  15000.000000   536000.0   2   \n",
       "1255    0.647  0.523198     1      TCP   7006.666667   250000.0   5   \n",
       "1239    0.616  0.508918     0      TCP   2004.666667    71600.0   4   \n",
       "1806    0.582  0.471663     1      UDP   5000.000000   179000.0   3   \n",
       "\n",
       "      experiment   Distance  Reliability  \n",
       "830            6  50.111683    99.995614  \n",
       "1747          11  76.809695    99.993287  \n",
       "1255           8  56.382843    99.993633  \n",
       "1239           8  25.474472    99.986189  \n",
       "1806          11  50.923514    99.988065  "
      ]
     },
     "metadata": {},
     "output_type": "display_data"
    },
    {
     "name": "stdout",
     "output_type": "stream",
     "text": [
      "|   Latency |   Jitter |   Loss | Protocol   |   Bandwidth |       Transfer |   UE |   experiment |   Distance |   Reliability |\n",
      "|----------:|---------:|-------:|:-----------|------------:|---------------:|-----:|-------------:|-----------:|--------------:|\n",
      "|     1.084 | 0.435563 |      0 | UDP        |     5000    | 179000         |    3 |            7 |    50.026  |       99.9962 |\n",
      "|     0.858 | 0.581465 |      1 | UDP        |    20000    | 715000         |    1 |            1 |    66.0669 |       99.9964 |\n",
      "|     0.568 | 0.429086 |      0 | UDP        |    10000    | 358000         |    1 |           11 |    54.9382 |       99.9918 |\n",
      "|     1.445 | 0.150915 |     11 | UDP        |    62000    |      2.217e+06 |    2 |           11 |    74.689  |       99.9906 |\n",
      "|     1.152 | 0.392013 |      4 | TCP        |     6006.67 | 215000         |    5 |            3 |    78.5067 |       99.9972 |\n"
     ]
    }
   ],
   "source": [
    "df_original = pd.read_csv('./data/dataset_n_normalizado.csv')\n",
    "display(df_original.sample(5))\n",
    "\n",
    "print(df_original.sample(5).to_markdown(index=False))"
   ]
  },
  {
   "cell_type": "markdown",
   "id": "0dd84413",
   "metadata": {},
   "source": [
    "O dataset é tratado em:\n",
    "\n",
    "*Chagas da Silva, D., Bressan, G., Firmino de Sousa, M. A., and Silveira, R. M. 5G network slice selector in IoT services scenarios with QoS requirements guarantee. In 2022 IEEE Wireless communications and Networking Conference (WCNC) (IEEE WCNC 2022) (Austin, USA, Apr. 2022).*\n",
    "\n",
    "Amostra do dataset __normalizado__ e processado:"
   ]
  },
  {
   "cell_type": "code",
   "execution_count": 24,
   "id": "e5cc24c7",
   "metadata": {},
   "outputs": [
    {
     "data": {
      "text/html": [
       "<div>\n",
       "<style scoped>\n",
       "    .dataframe tbody tr th:only-of-type {\n",
       "        vertical-align: middle;\n",
       "    }\n",
       "\n",
       "    .dataframe tbody tr th {\n",
       "        vertical-align: top;\n",
       "    }\n",
       "\n",
       "    .dataframe thead th {\n",
       "        text-align: right;\n",
       "    }\n",
       "</style>\n",
       "<table border=\"1\" class=\"dataframe\">\n",
       "  <thead>\n",
       "    <tr style=\"text-align: right;\">\n",
       "      <th></th>\n",
       "      <th>Latency</th>\n",
       "      <th>Jitter</th>\n",
       "      <th>Loss</th>\n",
       "      <th>Bandwidth</th>\n",
       "      <th>Transfer</th>\n",
       "      <th>Distance</th>\n",
       "      <th>Reliability</th>\n",
       "      <th>Cluster3</th>\n",
       "    </tr>\n",
       "  </thead>\n",
       "  <tbody>\n",
       "    <tr>\n",
       "      <th>1169</th>\n",
       "      <td>0.058157</td>\n",
       "      <td>0.207815</td>\n",
       "      <td>0.000000</td>\n",
       "      <td>0.313967</td>\n",
       "      <td>0.314385</td>\n",
       "      <td>0.522184</td>\n",
       "      <td>0.746318</td>\n",
       "      <td>1</td>\n",
       "    </tr>\n",
       "    <tr>\n",
       "      <th>1742</th>\n",
       "      <td>0.040785</td>\n",
       "      <td>0.203655</td>\n",
       "      <td>0.000000</td>\n",
       "      <td>0.213921</td>\n",
       "      <td>0.214099</td>\n",
       "      <td>0.621697</td>\n",
       "      <td>0.404520</td>\n",
       "      <td>1</td>\n",
       "    </tr>\n",
       "    <tr>\n",
       "      <th>1643</th>\n",
       "      <td>0.669184</td>\n",
       "      <td>0.018315</td>\n",
       "      <td>0.322581</td>\n",
       "      <td>0.456891</td>\n",
       "      <td>0.457021</td>\n",
       "      <td>0.676716</td>\n",
       "      <td>0.462122</td>\n",
       "      <td>2</td>\n",
       "    </tr>\n",
       "    <tr>\n",
       "      <th>1401</th>\n",
       "      <td>0.030967</td>\n",
       "      <td>0.183613</td>\n",
       "      <td>0.000000</td>\n",
       "      <td>0.142688</td>\n",
       "      <td>0.142981</td>\n",
       "      <td>0.150363</td>\n",
       "      <td>0.580201</td>\n",
       "      <td>1</td>\n",
       "    </tr>\n",
       "    <tr>\n",
       "      <th>63</th>\n",
       "      <td>0.237915</td>\n",
       "      <td>0.228227</td>\n",
       "      <td>0.000000</td>\n",
       "      <td>0.671276</td>\n",
       "      <td>0.671576</td>\n",
       "      <td>0.832840</td>\n",
       "      <td>0.495570</td>\n",
       "      <td>2</td>\n",
       "    </tr>\n",
       "  </tbody>\n",
       "</table>\n",
       "</div>"
      ],
      "text/plain": [
       "       Latency    Jitter      Loss  Bandwidth  Transfer  Distance  \\\n",
       "1169  0.058157  0.207815  0.000000   0.313967  0.314385  0.522184   \n",
       "1742  0.040785  0.203655  0.000000   0.213921  0.214099  0.621697   \n",
       "1643  0.669184  0.018315  0.322581   0.456891  0.457021  0.676716   \n",
       "1401  0.030967  0.183613  0.000000   0.142688  0.142981  0.150363   \n",
       "63    0.237915  0.228227  0.000000   0.671276  0.671576  0.832840   \n",
       "\n",
       "      Reliability  Cluster3  \n",
       "1169     0.746318         1  \n",
       "1742     0.404520         1  \n",
       "1643     0.462122         2  \n",
       "1401     0.580201         1  \n",
       "63       0.495570         2  "
      ]
     },
     "metadata": {},
     "output_type": "display_data"
    },
    {
     "name": "stdout",
     "output_type": "stream",
     "text": [
      "|   Latency |    Jitter |     Loss |   Bandwidth |    Transfer |   Distance |   Reliability |   Cluster3 |\n",
      "|----------:|----------:|---------:|------------:|------------:|-----------:|--------------:|-----------:|\n",
      "|  0.663142 | 0.830931  | 0        | 0.0281339   | 0.0285517   |   0.486126 |      0.527675 |          1 |\n",
      "|  0.72432  | 0.0483872 | 0.580645 | 0.000137201 | 0.000163013 |   0.43624  |      0.377152 |          0 |\n",
      "|  0.182779 | 0.189353  | 0        | 0.714153    | 0.714327    |   0.524168 |      0.562384 |          2 |\n",
      "|  0.670695 | 0.0629373 | 0.16129  | 0.199628    | 0.200115    |   0.480265 |      0.296733 |          0 |\n",
      "|  0.688822 | 0.0129506 | 0.516129 | 1           | 1           |   0.596831 |      0.084007 |          2 |\n"
     ]
    }
   ],
   "source": [
    "df_normalizado = pd.read_csv('./data/dataset_normalizado.csv')\n",
    "display(df_normalizado.sample(5))\n",
    "\n",
    "print(df_normalizado.sample(5).to_markdown(index=False))"
   ]
  },
  {
   "cell_type": "markdown",
   "id": "f081bab2",
   "metadata": {},
   "source": [
    "## Análise inicial\n",
    "\n",
    "No trabalho de Chagas o dataset é submetido à etapa de pré-processamento de análise de dados para posterior processo de agrupamento. Por utilizar o algoritmo K-Means apenas os atributos numéricos não categóricos são utilizados. Neste sentido, os atributos selecionados são:"
   ]
  },
  {
   "cell_type": "code",
   "execution_count": 25,
   "id": "c5b4408b",
   "metadata": {},
   "outputs": [
    {
     "data": {
      "text/html": [
       "<pre style=\"white-space:pre;overflow-x:auto;line-height:normal;font-family:Menlo,'DejaVu Sans Mono',consolas,'Courier New',monospace\"><span style=\"font-style: italic\">   Tabela 1: Atributos   </span>\n",
       "<span style=\"font-style: italic\"> selecionados em Chagas. </span>\n",
       "┏━━━━━━━━━━━━━┳━━━━━━━━━┓\n",
       "┃<span style=\"font-weight: bold\">    Atributo </span>┃<span style=\"font-weight: bold\"> Tipo    </span>┃\n",
       "┡━━━━━━━━━━━━━╇━━━━━━━━━┩\n",
       "│     Latency │ float64 │\n",
       "│      Jitter │ float64 │\n",
       "│        Loss │ float64 │\n",
       "│   Bandwidth │ float64 │\n",
       "│    Transfer │ float64 │\n",
       "│    Distance │ float64 │\n",
       "│ Reliability │ float64 │\n",
       "│    Cluster3 │ int64   │\n",
       "└─────────────┴─────────┘\n",
       "</pre>\n"
      ],
      "text/plain": [
       "\u001b[3m   Tabela 1: Atributos   \u001b[0m\n",
       "\u001b[3m selecionados em Chagas. \u001b[0m\n",
       "┏━━━━━━━━━━━━━┳━━━━━━━━━┓\n",
       "┃\u001b[1m \u001b[0m\u001b[1m   Atributo\u001b[0m\u001b[1m \u001b[0m┃\u001b[1m \u001b[0m\u001b[1mTipo   \u001b[0m\u001b[1m \u001b[0m┃\n",
       "┡━━━━━━━━━━━━━╇━━━━━━━━━┩\n",
       "│     Latency │ float64 │\n",
       "│      Jitter │ float64 │\n",
       "│        Loss │ float64 │\n",
       "│   Bandwidth │ float64 │\n",
       "│    Transfer │ float64 │\n",
       "│    Distance │ float64 │\n",
       "│ Reliability │ float64 │\n",
       "│    Cluster3 │ int64   │\n",
       "└─────────────┴─────────┘\n"
      ]
     },
     "metadata": {},
     "output_type": "display_data"
    }
   ],
   "source": [
    "table = Table(title=\"Tabela 1: Atributos selecionados em Chagas.\")\n",
    "\n",
    "table.add_column(\"Atributo\", justify=\"right\")\n",
    "table.add_column(\"Tipo\", justify=\"left\")\n",
    "\n",
    "for attr in df_normalizado.columns:\n",
    "    table.add_row(str(attr), str(df_normalizado[attr].dtype))\n",
    "\n",
    "console = Console()\n",
    "console.print(table)\n",
    "\n",
    "\n",
    "# print(table)"
   ]
  },
  {
   "cell_type": "markdown",
   "id": "1ae6b7d9",
   "metadata": {},
   "source": [
    "O último atribuito apresentado na tabela anterior: 'Cluster3', é o atributo de classe criado no processo de agrupamento por K-Means.\n",
    "\n",
    "O conjunto de atributos (normalizados) possui a seguinte distribuição:\n",
    "\n",
    "<div>\n",
    "    <figure>\n",
    "        <img src=\"img/v2_all_metrics_distribution.png\" width=\"70%\"/>\n",
    "        <figcaption>Figura 1: Intervalo de distribuição de atributos normalizados utilizados no processo de análise de agrupamento.</figcaption>\n",
    "    </figure>\n",
    "</div>\n",
    "\n",
    "### Caracterização\n",
    "\n",
    "Após o processo de Agrupamento, para cada cluster é avaliado quais são os atributos que os caracterizam, como observa-se na figura a seguir:\n",
    "\n",
    "<div>\n",
    "    <figure>\n",
    "        <img src=\"img/v2_clusters_characteristics.png\" width=\"70%\"/>\n",
    "        <figcaption>Figura 2: Caracterização única para cada agrupamento.</figcaption>\n",
    "    </figure>\n",
    "</div>\n"
   ]
  },
  {
   "cell_type": "markdown",
   "id": "03958e55",
   "metadata": {},
   "source": [
    "A figura anterior é utilizada como base para a construição da representação do comportamento através de Lógica Nebulosa, e posterior utilização com o dataset não normalizado."
   ]
  },
  {
   "cell_type": "markdown",
   "id": "7076fdd6",
   "metadata": {
    "tags": []
   },
   "source": [
    "# Lógica Nebulosa\n",
    "\n",
    "As variáveis linguísticas para o sistemas são as apresentadas na Tabela 1, seus intervalos são os considerando nas características apresentadas na Figura 2. A saída do sistema é a indicação do mais apropriado Slice para o usuário, tendo como a variável de saída a variável \"slice\".\n",
    "\n",
    "Os intervalos para cada atributos são extraídos do **dataset original**: "
   ]
  },
  {
   "cell_type": "code",
   "execution_count": 26,
   "id": "38ac8974",
   "metadata": {},
   "outputs": [
    {
     "data": {
      "text/html": [
       "<pre style=\"white-space:pre;overflow-x:auto;line-height:normal;font-family:Menlo,'DejaVu Sans Mono',consolas,'Courier New',monospace\"><span style=\"font-style: italic\"> Tabela 2: Intervalos inferior, superior e valor médio para cada atributo do  </span>\n",
       "<span style=\"font-style: italic\">                     dataset original (não normalizado).                      </span>\n",
       "┏━━━━━━━━━━━━━┳━━━━━━━━━━━━━━━━━━━━┳━━━━━━━━━━━━━━━━━━━━┳━━━━━━━━━━━━━━━━━━━━┓\n",
       "┃<span style=\"font-weight: bold\">    Atributo </span>┃<span style=\"font-weight: bold\"> Limite inferior    </span>┃<span style=\"font-weight: bold\"> Limite superior    </span>┃<span style=\"font-weight: bold\"> Valor médio        </span>┃\n",
       "┡━━━━━━━━━━━━━╇━━━━━━━━━━━━━━━━━━━━╇━━━━━━━━━━━━━━━━━━━━╇━━━━━━━━━━━━━━━━━━━━┩\n",
       "│     Latency │ 0.5539999999999999 │ 1.8780000000000001 │ 1.0677720020586747 │\n",
       "│      Jitter │ 0.104944827586     │ 2.14846710526      │ 0.4147523657066549 │\n",
       "│        Loss │ 0                  │ 31                 │ 4.115285640761709  │\n",
       "│   Bandwidth │ 32.50769230769231  │ 70000.0            │ 18443.50519945193  │\n",
       "│    Transfer │ 139.0              │ 2503000.0          │ 658836.0941842512  │\n",
       "│    Distance │ 6.025443608093389  │ 97.92975995607313  │ 53.44939016741711  │\n",
       "│ Reliability │ 99.98402061129444  │ 99.99897206790564  │ 99.9921602162676   │\n",
       "└─────────────┴────────────────────┴────────────────────┴────────────────────┘\n",
       "</pre>\n"
      ],
      "text/plain": [
       "\u001b[3m Tabela 2: Intervalos inferior, superior e valor médio para cada atributo do  \u001b[0m\n",
       "\u001b[3m                     dataset original (não normalizado).                      \u001b[0m\n",
       "┏━━━━━━━━━━━━━┳━━━━━━━━━━━━━━━━━━━━┳━━━━━━━━━━━━━━━━━━━━┳━━━━━━━━━━━━━━━━━━━━┓\n",
       "┃\u001b[1m \u001b[0m\u001b[1m   Atributo\u001b[0m\u001b[1m \u001b[0m┃\u001b[1m \u001b[0m\u001b[1mLimite inferior   \u001b[0m\u001b[1m \u001b[0m┃\u001b[1m \u001b[0m\u001b[1mLimite superior   \u001b[0m\u001b[1m \u001b[0m┃\u001b[1m \u001b[0m\u001b[1mValor médio       \u001b[0m\u001b[1m \u001b[0m┃\n",
       "┡━━━━━━━━━━━━━╇━━━━━━━━━━━━━━━━━━━━╇━━━━━━━━━━━━━━━━━━━━╇━━━━━━━━━━━━━━━━━━━━┩\n",
       "│     Latency │ 0.5539999999999999 │ 1.8780000000000001 │ 1.0677720020586747 │\n",
       "│      Jitter │ 0.104944827586     │ 2.14846710526      │ 0.4147523657066549 │\n",
       "│        Loss │ 0                  │ 31                 │ 4.115285640761709  │\n",
       "│   Bandwidth │ 32.50769230769231  │ 70000.0            │ 18443.50519945193  │\n",
       "│    Transfer │ 139.0              │ 2503000.0          │ 658836.0941842512  │\n",
       "│    Distance │ 6.025443608093389  │ 97.92975995607313  │ 53.44939016741711  │\n",
       "│ Reliability │ 99.98402061129444  │ 99.99897206790564  │ 99.9921602162676   │\n",
       "└─────────────┴────────────────────┴────────────────────┴────────────────────┘\n"
      ]
     },
     "metadata": {},
     "output_type": "display_data"
    }
   ],
   "source": [
    "# Caputar os limites inferior e superior para cada atributo.\n",
    "\n",
    "latency_min, latency_max, latency_mean = [df_original.Latency.min(), df_original.Latency.max(), df_original.Latency.mean()]\n",
    "jitter_min, jitter_max, jitter_mean = [df_original.Jitter.min(), df_original.Jitter.max(), df_original.Jitter.mean()]\n",
    "loss_min, loss_max, loss_mean = [df_original.Loss.min(), df_original.Loss.max(), df_original.Loss.mean()]\n",
    "bandwidth_min, bandwidth_max, bandwidth_mean  = [df_original.Bandwidth.min(), df_original.Bandwidth.max(), df_original.Bandwidth.mean()]\n",
    "transfer_min, transfer_max, transfer_mean = [df_original.Transfer.min(), df_original.Transfer.max(), df_original.Transfer.mean()]\n",
    "distance_min, distance_max, distance_mean = [df_original.Distance.min(), df_original.Distance.max(), df_original.Distance.mean()]\n",
    "reliability_min, reliability_max, reliability_mean = [df_original.Reliability.min(), df_original.Reliability.max(), df_original.Reliability.mean()]\n",
    "\n",
    "table = Table(title=\"Tabela 2: Intervalos inferior, superior e valor médio para cada atributo do dataset original (não normalizado).\")\n",
    "\n",
    "columns = ['Atributo', 'Limite inferior', 'Limite superior', 'Valor médio']\n",
    "\n",
    "table.add_column(\"Atributo\", justify=\"right\")\n",
    "table.add_column(\"Limite inferior\", justify=\"left\")\n",
    "table.add_column(\"Limite superior\", justify=\"left\")\n",
    "table.add_column(\"Valor médio\", justify=\"left\")\n",
    "\n",
    "table.add_row(\"Latency\", str(latency_min), str(latency_max), str(latency_mean))\n",
    "table.add_row(\"Jitter\", str(jitter_min), str(jitter_max), str(jitter_mean))\n",
    "table.add_row(\"Loss\", str(loss_min), str(loss_max), str(loss_mean))\n",
    "table.add_row(\"Bandwidth\", str(bandwidth_min), str(bandwidth_max), str(bandwidth_mean))\n",
    "table.add_row(\"Transfer\", str(transfer_min), str(transfer_max), str(transfer_mean))\n",
    "table.add_row(\"Distance\", str(distance_min), str(distance_max), str(distance_mean))\n",
    "table.add_row(\"Reliability\", str(reliability_min), str(reliability_max), str(reliability_mean))\n",
    "\n",
    "console = Console()\n",
    "console.print(table)"
   ]
  },
  {
   "cell_type": "markdown",
   "id": "b9c6ab9a",
   "metadata": {},
   "source": [
    "### Variável Latency\n",
    "\n",
    "Construção da variável de entrada associada a latência: Latency"
   ]
  },
  {
   "cell_type": "code",
   "execution_count": 27,
   "id": "f0ff575a",
   "metadata": {},
   "outputs": [
    {
     "data": {
      "image/png": "[encoded data removed]",
      "text/plain": [
       "<Figure size 432x288 with 1 Axes>"
      ]
     },
     "metadata": {
      "needs_background": "light"
     },
     "output_type": "display_data"
    }
   ],
   "source": [
    "# definição da variável\n",
    "latency = ctrl.Antecedent(np.arange(int(latency_min-1), int(latency_max) + 1, 0.01), 'latency')\n",
    "\n",
    "# Construção da função de pertinência\n",
    "latency['baixa'] = fuzz.trapmf(latency.universe, [0, 0, latency_min, latency_mean - latency_min/3])\n",
    "latency['média'] = fuzz.gaussmf(latency.universe, latency_mean, latency_min/3)\n",
    "latency['alta'] = fuzz.trapmf(latency.universe, [latency_mean + latency_min / 4, latency_mean + latency_min / 2, latency_max, latency_max + 100])\n",
    "latency.view()\n"
   ]
  },
  {
   "cell_type": "code",
   "execution_count": null,
   "id": "4743a4ee",
   "metadata": {},
   "outputs": [],
   "source": []
  },
  {
   "cell_type": "markdown",
   "id": "a09b5099",
   "metadata": {},
   "source": [
    "### Variável Atraso de Comunicação\n",
    "\n",
    "Construção da variável de entrada associada ao atraso de comunicação: Jitter"
   ]
  },
  {
   "cell_type": "code",
   "execution_count": 28,
   "id": "98b72130",
   "metadata": {},
   "outputs": [
    {
     "data": {
      "image/png": "[encoded data removed]",
      "text/plain": [
       "<Figure size 432x288 with 1 Axes>"
      ]
     },
     "metadata": {
      "needs_background": "light"
     },
     "output_type": "display_data"
    }
   ],
   "source": [
    "# definição da variável\n",
    "jitter = ctrl.Antecedent(np.arange(int(jitter_min-1), int(jitter_max) + 1, 0.01), 'jitter')\n",
    "\n",
    "# Construção da função de pertinência\n",
    "jitter['baixa'] = fuzz.trapmf(jitter.universe, [0, 0, jitter_min, jitter_mean - jitter_min/3])\n",
    "jitter['média'] = fuzz.gaussmf(jitter.universe, jitter_mean, jitter_min/3)\n",
    "jitter['alta'] = fuzz.trapmf(jitter.universe, [jitter_mean + jitter_min / 4, jitter_mean + jitter_min / 2, jitter_max, jitter_max + 100])\n",
    "jitter.view()"
   ]
  },
  {
   "cell_type": "markdown",
   "id": "49f1997d",
   "metadata": {},
   "source": [
    "### Variável Perda de Pacote\n",
    "\n",
    "Construção da variável de entrada associada a perda de pacotes de dados: Loss"
   ]
  },
  {
   "cell_type": "code",
   "execution_count": 29,
   "id": "0e3dd18b",
   "metadata": {},
   "outputs": [
    {
     "data": {
      "image/png": "[encoded data removed]",
      "text/plain": [
       "<Figure size 432x288 with 1 Axes>"
      ]
     },
     "metadata": {
      "needs_background": "light"
     },
     "output_type": "display_data"
    }
   ],
   "source": [
    "# definição da variável\n",
    "loss = ctrl.Antecedent(np.arange(int(loss_min-1), int(loss_max) + 1, 0.01), 'loss')\n",
    "\n",
    "# Construção da função de pertinência\n",
    "loss['baixa'] = fuzz.trapmf(loss.universe, [-1, -1, loss_min, loss_mean - loss_min/3])\n",
    "loss['média'] = fuzz.trimf(loss.universe, [loss_min, loss_mean, loss_max / 2])\n",
    "loss['alta'] = fuzz.trapmf(loss.universe, [loss_mean, loss_mean + loss_max / 3, loss_max + 1, loss_max + 100])\n",
    "loss.view()"
   ]
  },
  {
   "cell_type": "markdown",
   "id": "c8b598a1",
   "metadata": {},
   "source": [
    "### Variável Largura de Banda\n",
    "\n",
    "Construção da variável de entrada associada a largura de banda: Bandwidth"
   ]
  },
  {
   "cell_type": "code",
   "execution_count": 30,
   "id": "4ee61707",
   "metadata": {},
   "outputs": [
    {
     "data": {
      "image/png": "[encoded data removed]",
      "text/plain": [
       "<Figure size 432x288 with 1 Axes>"
      ]
     },
     "metadata": {
      "needs_background": "light"
     },
     "output_type": "display_data"
    }
   ],
   "source": [
    "# definição da variável\n",
    "bandwidth = ctrl.Antecedent(np.arange(int(bandwidth_min-1), int(bandwidth_max) + 1, 0.5), 'bandwidth')\n",
    "\n",
    "# Construção da função de pertinência\n",
    "bandwidth['baixa'] = fuzz.trapmf(bandwidth.universe, [0, 0, bandwidth_min, bandwidth_mean - bandwidth_min/3])\n",
    "bandwidth['média'] = fuzz.trimf(bandwidth.universe, [bandwidth_min, bandwidth_mean, bandwidth_max/2])\n",
    "bandwidth['alta'] = fuzz.trapmf(bandwidth.universe, [bandwidth_mean, bandwidth_max / 2, bandwidth_max, bandwidth_max + 100])\n",
    "bandwidth.view()"
   ]
  },
  {
   "cell_type": "markdown",
   "id": "1bdc3fe5",
   "metadata": {},
   "source": [
    "### Variável Taxa de Transferência de Dados\n",
    "\n",
    "Construção da variável de entrada associada a transferência: Transfer"
   ]
  },
  {
   "cell_type": "code",
   "execution_count": 31,
   "id": "a35f9669",
   "metadata": {},
   "outputs": [
    {
     "data": {
      "image/png": "[encoded data removed]",
      "text/plain": [
       "<Figure size 432x288 with 1 Axes>"
      ]
     },
     "metadata": {
      "needs_background": "light"
     },
     "output_type": "display_data"
    }
   ],
   "source": [
    "# definição da variável\n",
    "transfer = ctrl.Antecedent(np.arange(int(transfer_min-1), int(transfer_max) + 1, 5), 'transfer')\n",
    "\n",
    "# Construção da função de pertinência\n",
    "transfer['baixa'] = fuzz.trapmf(transfer.universe, [0, 0, transfer_min, transfer_mean - transfer_min/3])\n",
    "transfer['média'] = fuzz.trimf(transfer.universe, [transfer_min, transfer_mean, transfer_max/2])\n",
    "transfer['alta'] = fuzz.trapmf(transfer.universe, [transfer_mean, transfer_max / 2, transfer_max, transfer_max * 1.1])\n",
    "transfer.view()"
   ]
  },
  {
   "cell_type": "markdown",
   "id": "8b143cba",
   "metadata": {},
   "source": [
    "### Variável Distância\n",
    "\n",
    "Construção da variável de entrada associada a distância: Distance"
   ]
  },
  {
   "cell_type": "code",
   "execution_count": 32,
   "id": "dbc671f3",
   "metadata": {},
   "outputs": [
    {
     "data": {
      "image/png": "[encoded data removed]",
      "text/plain": [
       "<Figure size 432x288 with 1 Axes>"
      ]
     },
     "metadata": {
      "needs_background": "light"
     },
     "output_type": "display_data"
    }
   ],
   "source": [
    "# definição da variável\n",
    "distance = ctrl.Antecedent(np.arange(int(distance_min-1), int(distance_max) + 1, 0.5), 'distance')\n",
    "\n",
    "# Construção da função de pertinência\n",
    "distance['baixa'] = fuzz.trapmf(distance.universe, [0, 0, distance_min + 25, distance_mean])\n",
    "distance['média'] = fuzz.gaussmf(distance.universe, distance_mean, distance_min)\n",
    "distance['alta'] = fuzz.trapmf(distance.universe, [distance_mean + distance_min / 4, distance_mean + distance_min + 10, distance_max, distance_max * 1.1])\n",
    "distance.view()"
   ]
  },
  {
   "cell_type": "markdown",
   "id": "167510e7",
   "metadata": {},
   "source": [
    "### Variável Confiabilidade\n",
    "\n",
    "Construção da variável de entrada associada a confiabilidade: Reliability.\n",
    "\n",
    "Não houve precisão para representar a variável de confiabilidade no computador utilizado para desenvolvimento desta atividade."
   ]
  },
  {
   "cell_type": "markdown",
   "id": "b4ceda03",
   "metadata": {},
   "source": [
    "### Variável de saída\n",
    "\n",
    "Mapeamento para os slices existentes do cenário apresentado no trabalho de Chagas.\n"
   ]
  },
  {
   "cell_type": "code",
   "execution_count": 33,
   "id": "2d1cc66b",
   "metadata": {},
   "outputs": [
    {
     "data": {
      "image/png": "[encoded data removed]",
      "text/plain": [
       "<Figure size 432x288 with 1 Axes>"
      ]
     },
     "metadata": {
      "needs_background": "light"
     },
     "output_type": "display_data"
    }
   ],
   "source": [
    "# definição da variável\n",
    "slice_out = ctrl.Consequent(np.arange(0, 2, 0.01), 'slice_out')\n",
    "\n",
    "# Construção da função de pertinência\n",
    "slice_out['slice1'] = fuzz.trapmf(slice_out.universe, [-1, 0, 0.5, 1])\n",
    "slice_out['slice2'] = fuzz.trapmf(slice_out.universe, [0.5, 0.9, 1.1, 1.5])\n",
    "slice_out['slice3'] = fuzz.trapmf(slice_out.universe, [1, 1.5, 2, 2])\n",
    "\n",
    "slice_out.view()"
   ]
  },
  {
   "cell_type": "markdown",
   "id": "3cc3cd96",
   "metadata": {},
   "source": [
    "## Construção de regras do motor de inferência\n",
    "\n",
    "A construção das regras considerou o cenário apresentado na Figura 2."
   ]
  },
  {
   "cell_type": "markdown",
   "id": "5f20f7f4",
   "metadata": {},
   "source": [
    "### Conjunto de regras para capturar o tráfego para o Slice 1\n",
    "\n",
    "R1: **SE** loss é baixa **E** latency é alta **ENTÃO** saída é slice 1\n",
    "\n",
    "R2: **SE** bandwidth é baixa **E** transfer é baixa **E** jitter é baixa **ENTÃO** saída é slice 1\n",
    "\n",
    "R3: **SE** distance é média **E** jitter é baixa **ENTÃO** saída é slice 1\n",
    "\n",
    "R4: **SE** loss é alta **E** latency é alta **ENTÃO** saída é slice 1"
   ]
  },
  {
   "cell_type": "code",
   "execution_count": 34,
   "id": "594b30f7",
   "metadata": {},
   "outputs": [],
   "source": [
    "rule1_1 = ctrl.Rule(loss['alta'] & latency['alta'], slice_out['slice1'])\n",
    "rule1_2 = ctrl.Rule(bandwidth['baixa'] & transfer['baixa'] & jitter['baixa'], slice_out['slice1'])\n",
    "rule1_3 = ctrl.Rule(distance['média'] & jitter['baixa'], slice_out['slice1'])\n",
    "rule1_4 = ctrl.Rule(loss['alta'] | latency['alta'], slice_out['slice1'])"
   ]
  },
  {
   "cell_type": "markdown",
   "id": "0ae27be2",
   "metadata": {},
   "source": [
    "### Conjunto de regras para capturar o tráfego para o Slice 2\n",
    "\n",
    "R5: **SE** bandwidth é alta **E** transfer é alta **ENTÃO** saída é slice 2\n",
    "\n",
    "R6: **SE** jitter é baixa **E** transfer é alta **ENTÃO** saída é slice 2\n",
    "\n",
    "R7: **SE** jitter é baixa **E** bandwidth é alta **ENTÃO** saída é slice 2\n",
    "\n",
    "R8: **SE** latency é média **E** jitter é baixa **ENTÃO** saída é slice 2"
   ]
  },
  {
   "cell_type": "code",
   "execution_count": 35,
   "id": "5f784ccf",
   "metadata": {},
   "outputs": [],
   "source": [
    "rule2_1 = ctrl.Rule(bandwidth['alta'] & transfer['alta'], slice_out['slice2'])\n",
    "rule2_2 = ctrl.Rule(jitter['baixa'] & transfer['alta'], slice_out['slice2'])\n",
    "rule2_3 = ctrl.Rule(jitter['baixa'] & bandwidth['alta'], slice_out['slice2'])\n",
    "rule2_4 = ctrl.Rule(latency['média'] & jitter['baixa'], slice_out['slice2'])"
   ]
  },
  {
   "cell_type": "markdown",
   "id": "4a711c81",
   "metadata": {},
   "source": [
    "### Conjunto de regras para capturar o tráfego para o Slice 3\n",
    "\n",
    "R9: **SE** loss é baixa **E** latency é baixa **ENTÃO** saída é slice 3\n",
    "\n",
    "R10: **SE** bandwidth é baixa **E** loss é baixa **ENTÃO** saída é slice 3\n",
    "\n",
    "R11: **SE** bandwidth é baixa **E** transfer é alta **ENTÃO** saída é slice 3\n",
    "\n",
    "R12: **SE** jitter é média **E** loss é baixa **ENTÃO** saída é slice 3"
   ]
  },
  {
   "cell_type": "code",
   "execution_count": 36,
   "id": "41915fe7",
   "metadata": {},
   "outputs": [],
   "source": [
    "rule3_1 = ctrl.Rule(loss['baixa'] & latency['baixa'], slice_out['slice3'])\n",
    "rule3_2 = ctrl.Rule(bandwidth['baixa'] & loss['baixa'], slice_out['slice3'])\n",
    "rule3_3 = ctrl.Rule(bandwidth['baixa'] & transfer['baixa'], slice_out['slice3'])\n",
    "rule3_4 = ctrl.Rule(jitter['média'] & loss['baixa'], slice_out['slice3'])"
   ]
  },
  {
   "cell_type": "code",
   "execution_count": 37,
   "id": "457fe73b",
   "metadata": {},
   "outputs": [],
   "source": [
    "# Sistema:\n",
    "seletor_ctrl = ctrl.ControlSystem(\n",
    "                [rule1_1, rule1_2, rule1_3, rule1_4, \n",
    "                 rule2_1, rule2_2, rule2_3, rule2_4, \n",
    "                 rule3_1, rule3_2, rule3_3, rule3_4\n",
    "                ])\n",
    "# Processamento\n",
    "seletor_simulador = ctrl.ControlSystemSimulation(seletor_ctrl)\n"
   ]
  },
  {
   "cell_type": "code",
   "execution_count": 38,
   "id": "7e4eb691",
   "metadata": {},
   "outputs": [
    {
     "data": {
      "image/png": "[encoded data removed]",
      "text/plain": [
       "<Figure size 432x288 with 1 Axes>"
      ]
     },
     "metadata": {},
     "output_type": "display_data"
    }
   ],
   "source": [
    "seletor_ctrl.view()"
   ]
  },
  {
   "cell_type": "code",
   "execution_count": 39,
   "id": "71746128",
   "metadata": {},
   "outputs": [],
   "source": [
    "## Verificação de funcionamento\n",
    "if False:\n",
    "    limite_sup = len(df_original)\n",
    "    mens = \"Selecione um registro para teste [0 - {}]\".format(limite_sup - 1)\n",
    "    um_registro_qualquer = Prompt.ask(mens)\n",
    "    atributos = ['Latency', 'Jitter', 'Loss', 'Bandwidth', 'Transfer', 'Distance']\n",
    "\n",
    "    for attr in df_original.columns:\n",
    "        if attr in atributos:\n",
    "            seletor_simulador.input[attr.lower()] = df_original[attr][int(um_registro_qualquer)]\n",
    "\n",
    "    seletor_simulador.compute()\n",
    "\n",
    "    seletor_simulador.output['slice_out']\n",
    "    console.print(\"[green]Atributos e valores utilizados:[/]\")\n",
    "    console.print(df_original.iloc[int(um_registro_qualquer)].to_markdown())\n",
    "    console.print(\"\\n\\nResultado do processamento:\\n\")\n",
    "    slice_out.view(sim=seletor_simulador)"
   ]
  },
  {
   "cell_type": "code",
   "execution_count": 40,
   "id": "a0f84477",
   "metadata": {},
   "outputs": [],
   "source": [
    "# Análise de performance necessita da implementação de simulador para demonstrar o \n",
    "# fluxo do tráfego de rede e consumo de recursos pelos slices.\n",
    "\n",
    "if False:\n",
    "    \n",
    "    atributos = ['Latency', 'Jitter', 'Loss', 'Bandwidth', 'Transfer', 'Distance']\n",
    "\n",
    "    performance = []\n",
    "\n",
    "    for i in range(0, len(df_original)):\n",
    "        for attr in df_original.columns:\n",
    "            if attr in atributos:\n",
    "                seletor_simulador.input[attr.lower()] = df_original[attr][i]\n",
    "\n",
    "        seletor_simulador.compute()\n",
    "\n",
    "        pred = round(seletor_simulador.output['slice_out'])\n",
    "\n",
    "        performance.append([i, df_normalizado.Cluster3[i], pred])\n",
    "    \n",
    "    performance[1000]"
   ]
  },
  {
   "cell_type": "code",
   "execution_count": 41,
   "id": "bfa9dd8b",
   "metadata": {},
   "outputs": [],
   "source": [
    "# Fonte 1: https://scikit-learn.org/stable/modules/generated/sklearn.svm.SVC.html\n",
    "# Fonte 2: https://github.com/sahilmotadoo/Recursive-Feature-Elimination-Using-Support-Vector-Machines/blob/master/svm_rfe.py\n",
    "# Fonte 3: # https://colab.research.google.com/drive/1fQCvZ6w-3q5ZPDy-iDRabAnR7vmq8Dqr?usp=sharing#scrollTo=z4x5WO3U7dok\n",
    "\n",
    "if False:\n",
    "    import pandas as pd\n",
    "    from sklearn import svm\n",
    "    from sklearn.model_selection import train_test_split\n",
    "    from sklearn.metrics import accuracy_score\n",
    "    import warnings\n",
    "\n",
    "    #Function to test model accuracy based on testing data\n",
    "    def accuracy(model, x_test, y_test):\n",
    "        prediction = model.predict(x_test)\n",
    "        print(\"Accuracy of model:\", accuracy_score(y_test, prediction) * 100, \"%\")\n",
    "\n",
    "    #Supress Warnings\n",
    "    warnings.filterwarnings(\"ignore\")\n",
    "\n",
    "    #Set parameter\n",
    "    C = 1.0\n",
    "\n",
    "    df_original = pd.read_csv('./data/dataset_n_normalizado.csv')\n",
    "    df_normalizado = pd.read_csv('./data/dataset_normalizado.csv')\n",
    "\n",
    "\n",
    "    #Create DataFrame\n",
    "    main_col = ['Latency', 'Jitter', 'Loss', 'Bandwidth', 'Transfer', 'Distance', 'Reliability']\n",
    "    samples = df_original.filter(main_col)\n",
    "    print(\"Samples: \", len(samples))\n",
    "\n",
    "    nFeatures = len(samples.columns)\n",
    "    print(\"nFeatures: \", nFeatures)\n",
    "    print(\"\\n\")\n",
    "\n",
    "    #Split data and scores from modified .CSV file\n",
    "    cluster_column = ['Cluster3']\n",
    "    scores = df_normalizado.filter(cluster_column)\n",
    "\n",
    "    rfeIndex = nFeatures\n",
    "\n",
    "    #Recursively eliminate features based on the lowest weight\n",
    "    while True:\n",
    "        #Split into training and testing\n",
    "        x_train, x_test, y_train, y_test = train_test_split(samples, scores, test_size = 0.50, train_size = 0.50)\n",
    "        #Create SVM model using a linear kernel\n",
    "        model = svm.SVC(kernel='linear', C=C).fit(x_train, y_train)\n",
    "        coef = model.coef_\n",
    "\n",
    "        #Print co-efficients of features\n",
    "        for i in range(0, nFeatures):\n",
    "            print(samples.columns[i],\":\", coef[0][i])\n",
    "\n",
    "        #Find the minimum weight among features and eliminate the feature with the smallest weight\n",
    "        min = coef[0][0]\n",
    "        index = 0\n",
    "\n",
    "        for i in range(0, rfeIndex):\n",
    "            if min > coef[0][i]:\n",
    "                index = index + 1\n",
    "                min = coef[0][i]\n",
    "        if len(samples.columns) == 1:\n",
    "            print(\"After recursive elimination we have the\", samples.columns[index], \"feature with a score of:\", min)\n",
    "            accuracy(model, x_test, y_test)\n",
    "            break\n",
    "        else:\n",
    "            print(\"Lowest feature weight is for\", samples.columns[index], \"with a value of:\", min)\n",
    "            print(\"Dropping feature\", samples.columns[index])\n",
    "\n",
    "            #Drop the feature in the 'samples' dataframe based on the lowest feature index\n",
    "            samples.drop(samples.columns[index], axis = 1, inplace = True)\n",
    "            accuracy(model, x_test, y_test)\n",
    "            print(\"\\n\")\n",
    "            rfeIndex = rfeIndex - 1\n",
    "            nFeatures = nFeatures - 1"
   ]
  },
  {
   "cell_type": "markdown",
   "id": "32975bc6",
   "metadata": {},
   "source": [
    "## Processamento com SVM para caracterização dos atributos mais relevantes\n",
    "\n",
    "Saída fornecida:\n",
    "\n",
    "```\n",
    "Samples:  1943\n",
    "nFeatures:  7\n",
    "\n",
    "Latency : 44.6039892063333\n",
    "Jitter : -15.470164193604372\n",
    "Loss : 398.46712816518914\n",
    "Bandwidth : 27.177494435803965\n",
    "Transfer : -1.9857973903417587\n",
    "Distance : 2.3079370392933924\n",
    "Reliability : -0.0030324328117785626\n",
    "\n",
    "Lowest feature weight is for Jitter with a value of: -15.470164193604372\n",
    "Dropping feature Jitter\n",
    "Accuracy of model: 94.03292181069959 %\n",
    "\n",
    "\n",
    "Latency : 47.17986970014587\n",
    "Loss : 432.1356565799456\n",
    "Bandwidth : -345.8241050725337\n",
    "Transfer : 8.766442440450191\n",
    "Distance : -114.71611395462787\n",
    "Reliability : 0.026477903767954558\n",
    "\n",
    "Lowest feature weight is for Loss with a value of: -345.8241050725337\n",
    "Dropping feature Loss\n",
    "Accuracy of model: 90.3292181069959 %\n",
    "\n",
    "\n",
    "Latency : 26.863657906395318\n",
    "Bandwidth : 30.156048443866894\n",
    "Transfer : -1.9135915525257587\n",
    "Distance : 43.73595323239988\n",
    "Reliability : -0.004706805968453409\n",
    "\n",
    "Lowest feature weight is for Bandwidth with a value of: -1.9135915525257587\n",
    "Dropping feature Bandwidth\n",
    "Accuracy of model: 92.18106995884774 %\n",
    "\n",
    "\n",
    "Latency : 33.12786094835557\n",
    "Transfer : -0.610806729644537\n",
    "Distance : -52.40854284730767\n",
    "Reliability : 0.025234853323127027\n",
    "\n",
    "Lowest feature weight is for Distance with a value of: -52.40854284730767\n",
    "Dropping feature Distance\n",
    "Accuracy of model: 92.28395061728395 %\n",
    "\n",
    "\n",
    "Latency : 52.03427136388278\n",
    "Transfer : -0.8466230556368828\n",
    "Reliability : 0.061451498320820974\n",
    "\n",
    "Lowest feature weight is for Transfer with a value of: -0.8466230556368828\n",
    "Dropping feature Transfer\n",
    "Accuracy of model: 90.12345679012346 %\n",
    "\n",
    "\n",
    "Latency : 7.236746728109495\n",
    "Reliability : 0.0554215763704633\n",
    "\n",
    "Lowest feature weight is for Reliability with a value of: 0.0554215763704633\n",
    "Dropping feature Reliability\n",
    "Accuracy of model: 77.1604938271605 %\n",
    "\n",
    "\n",
    "Latency : 7.352941291760793\n",
    "\n",
    "After recursive elimination we have the Latency feature with a score of: 7.352941291760793\n",
    "Accuracy of model: 74.79423868312757 %\n",
    "```"
   ]
  },
  {
   "cell_type": "code",
   "execution_count": null,
   "id": "fc249826",
   "metadata": {},
   "outputs": [],
   "source": []
  }
 ],
 "metadata": {
  "kernelspec": {
   "display_name": "Python 3",
   "language": "python",
   "name": "python3"
  },
  "language_info": {
   "codemirror_mode": {
    "name": "ipython",
    "version": 3
   },
   "file_extension": ".py",
   "mimetype": "text/x-python",
   "name": "python",
   "nbconvert_exporter": "python",
   "pygments_lexer": "ipython3",
   "version": "3.8.10"
  }
 },
 "nbformat": 4,
 "nbformat_minor": 5
}
